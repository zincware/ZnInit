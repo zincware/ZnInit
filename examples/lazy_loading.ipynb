{
 "cells": [
  {
   "cell_type": "code",
   "execution_count": 1,
   "metadata": {
    "collapsed": true
   },
   "outputs": [],
   "source": [
    "from zninit import ZnInit, Descriptor\n",
    "import pathlib\n",
    "import json"
   ]
  },
  {
   "cell_type": "markdown",
   "metadata": {
    "collapsed": false
   },
   "source": [
    "# Define a custom Descriptor which lazy-loads data from File\n",
    "The following example is a minimal version of a lazy-loading implementation.\n",
    "It is purely for illustration purpose. Lazy Loading is not a feature of `ZnInit` but can be relatively easily implemented with it."
   ]
  },
  {
   "cell_type": "code",
   "execution_count": 2,
   "metadata": {
    "collapsed": false
   },
   "outputs": [],
   "source": [
    "class LazyData:\n",
    "    \"\"\"Identify Lazy Data\"\"\"\n",
    "\n",
    "\n",
    "class LazyDataDescriptor(Descriptor):\n",
    "    data_file = pathlib.Path(\"data.json\")\n",
    "\n",
    "    def load_from_file(self):\n",
    "        \"\"\"Read Data from json file\"\"\"\n",
    "        data = json.loads(self.data_file.read_text())\n",
    "        return data[self.name]\n",
    "\n",
    "    def save_to_file(self, value):\n",
    "        \"\"\"Update json data file\"\"\"\n",
    "        try:\n",
    "            data = json.loads(self.data_file.read_text())\n",
    "        except FileNotFoundError:\n",
    "            data = {}\n",
    "        data[self.name] = value\n",
    "        self.data_file.write_text(json.dumps(data))\n",
    "\n",
    "    def __get__(self, instance, owner=None):\n",
    "        \"\"\"Reading the class attribute\"\"\"\n",
    "        if instance is None:\n",
    "            return self\n",
    "        value = instance.__dict__.get(self.name, self.default)\n",
    "        if value is LazyData:\n",
    "            instance.__dict__[self.name] = self.load_from_file()\n",
    "\n",
    "        return instance.__dict__.get(self.name, self.default)\n",
    "\n",
    "    def __set__(self, instance, value):\n",
    "        \"\"\"Writing the class attribute\"\"\"\n",
    "        if value is LazyData:\n",
    "            return\n",
    "        self._instance = instance\n",
    "        instance.__dict__[self.name] = value\n",
    "        self.save_to_file(value)"
   ]
  },
  {
   "cell_type": "markdown",
   "metadata": {
    "collapsed": false
   },
   "source": [
    "Write a new `ZnInit` class, which defines two lazy descriptors. We have to disable `use_repr` because it will read the data from file automatically."
   ]
  },
  {
   "cell_type": "code",
   "execution_count": 3,
   "metadata": {
    "collapsed": false
   },
   "outputs": [],
   "source": [
    "class SaveToFileData(ZnInit):\n",
    "    name: str = LazyDataDescriptor(LazyData, use_repr=False)\n",
    "    age: int = LazyDataDescriptor(LazyData, use_repr=False)"
   ]
  },
  {
   "cell_type": "markdown",
   "metadata": {
    "collapsed": false
   },
   "source": [
    "Instantiating a new instance will save the data into a `data.json` file."
   ]
  },
  {
   "cell_type": "code",
   "execution_count": 4,
   "metadata": {
    "collapsed": false
   },
   "outputs": [
    {
     "name": "stdout",
     "output_type": "stream",
     "text": [
      "{'age': 27, 'name': 'Fabian'}\n"
     ]
    },
    {
     "data": {
      "text/plain": "SaveToFileData()"
     },
     "execution_count": 4,
     "metadata": {},
     "output_type": "execute_result"
    }
   ],
   "source": [
    "data = SaveToFileData(name=\"Fabian\", age=27)\n",
    "print(data.__dict__)\n",
    "data"
   ]
  },
  {
   "cell_type": "markdown",
   "metadata": {
    "collapsed": false
   },
   "source": [
    "When we create a new instance of the class the `__dict__` will be empty. But when reading the attributes it will be filled by the data from `data.json`."
   ]
  },
  {
   "cell_type": "code",
   "execution_count": 5,
   "metadata": {
    "collapsed": false
   },
   "outputs": [],
   "source": [
    "data = SaveToFileData()"
   ]
  },
  {
   "cell_type": "code",
   "execution_count": 6,
   "metadata": {
    "collapsed": false
   },
   "outputs": [
    {
     "data": {
      "text/plain": "{}"
     },
     "execution_count": 6,
     "metadata": {},
     "output_type": "execute_result"
    }
   ],
   "source": [
    "data.__dict__"
   ]
  },
  {
   "cell_type": "code",
   "execution_count": 7,
   "metadata": {
    "collapsed": false
   },
   "outputs": [
    {
     "data": {
      "text/plain": "'Fabian'"
     },
     "execution_count": 7,
     "metadata": {},
     "output_type": "execute_result"
    }
   ],
   "source": [
    "data.name"
   ]
  },
  {
   "cell_type": "code",
   "execution_count": 8,
   "metadata": {
    "collapsed": false
   },
   "outputs": [
    {
     "data": {
      "text/plain": "{'name': 'Fabian'}"
     },
     "execution_count": 8,
     "metadata": {},
     "output_type": "execute_result"
    }
   ],
   "source": [
    "data.__dict__"
   ]
  },
  {
   "cell_type": "code",
   "execution_count": 9,
   "metadata": {
    "collapsed": false
   },
   "outputs": [
    {
     "data": {
      "text/plain": "27"
     },
     "execution_count": 9,
     "metadata": {},
     "output_type": "execute_result"
    }
   ],
   "source": [
    "data.age"
   ]
  },
  {
   "cell_type": "code",
   "execution_count": 10,
   "metadata": {
    "collapsed": false
   },
   "outputs": [
    {
     "data": {
      "text/plain": "{'name': 'Fabian', 'age': 27}"
     },
     "execution_count": 10,
     "metadata": {},
     "output_type": "execute_result"
    }
   ],
   "source": [
    "data.__dict__"
   ]
  }
 ],
 "metadata": {
  "kernelspec": {
   "display_name": "Python 3",
   "language": "python",
   "name": "python3"
  },
  "language_info": {
   "codemirror_mode": {
    "name": "ipython",
    "version": 2
   },
   "file_extension": ".py",
   "mimetype": "text/x-python",
   "name": "python",
   "nbconvert_exporter": "python",
   "pygments_lexer": "ipython2",
   "version": "2.7.6"
  }
 },
 "nbformat": 4,
 "nbformat_minor": 0
}
